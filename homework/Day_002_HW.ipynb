{
 "cells": [
  {
   "cell_type": "markdown",
   "metadata": {},
   "source": [
    "## [作業目標]\n",
    "了解機器學習適合應用的領域與範疇。"
   ]
  },
  {
   "cell_type": "markdown",
   "metadata": {},
   "source": [
    "## [作業重點]\n",
    "透過瞭解機器學習的運作方式，找出非常適用機器學習應用的領域及其原因"
   ]
  },
  {
   "cell_type": "markdown",
   "metadata": {},
   "source": [
    "## 作業\n",
    "請找出一個你認為機器學習可以發光發熱的領域並闡述原因? "
   ]
  },
  {
   "cell_type": "code",
   "execution_count": null,
   "metadata": {},
   "outputs": [],
   "source": [
    "餐飲業是一個高度勞動密集的行業，隨著當今人力成本不斷地成長下，餐飲業的成長及生存變得相當的困難即使餐飲市場能仍是有成長的\n",
    "但競爭相當激烈，近年來隨著科技的進步，服務生點單送餐的工作已經逐漸被取代，有自動點餐機甚至有能送餐的機器人，自動料理的機\n",
    "器也不斷的在進步但仍未成熟，佔據市場大部分的連鎖餐飲集團的料理都有一定的SOP製作程序，即使這樣但仍然還是需要大量的人力去\n",
    "製作，若是機械學習的能力可以更加進步將來必定可以解決餐飲業最頭痛的問題之一，人力資源，的問題，以及機械比起人類更能製作出\n",
    "品質一致的產品，速度即使不一定比較快但一定穩定。\n",
    "    "
   ]
  }
 ],
 "metadata": {
  "kernelspec": {
   "display_name": "Python 3",
   "language": "python",
   "name": "python3"
  },
  "language_info": {
   "codemirror_mode": {
    "name": "ipython",
    "version": 3
   },
   "file_extension": ".py",
   "mimetype": "text/x-python",
   "name": "python",
   "nbconvert_exporter": "python",
   "pygments_lexer": "ipython3",
   "version": "3.7.3"
  }
 },
 "nbformat": 4,
 "nbformat_minor": 2
}
